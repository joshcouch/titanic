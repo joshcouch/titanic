{
 "cells": [
  {
   "cell_type": "markdown",
   "metadata": {},
   "source": [
    "# New model using SKLearn random forest regressor\n"
   ]
  },
  {
   "cell_type": "code",
   "execution_count": 2,
   "metadata": {},
   "outputs": [],
   "source": [
    "import numpy as np\n",
    "import prep_data_2\n",
    "from sklearn.model_selection import RepeatedStratifiedKFold, cross_val_score\n",
    "from xgboost import XGBClassifier\n",
    "import pandas as pd"
   ]
  },
  {
   "cell_type": "code",
   "execution_count": 3,
   "metadata": {},
   "outputs": [],
   "source": [
    "# Define Paths\n",
    "train_csv_path = \"C:/Users/joshc/OneDrive/Documents/01 Trying too hard/Machine Learning and AI/Kaggle/titanic/Datasets/train.csv\"\n",
    "summary_stats_path = \"C:/Users/joshc/OneDrive/Documents/01 Trying too hard/Machine Learning and AI/Kaggle/titanic/Datasets/summary stats.txt\"\n",
    "final_test_csv_path = \"C:/Users/joshc/OneDrive/Documents/01 Trying too hard/Machine Learning and AI/Kaggle/titanic/Datasets/test.csv\"\n",
    "\n",
    "data_df = prep_data_2.main(train_csv_path=train_csv_path)\n",
    "\n",
    "y_feature = \"Survived\"\n",
    "X_features = ['Age', 'Fare', 'female', 'no friends or family', '10^class']\n",
    "\n",
    "X = data_df[X_features]\n",
    "y = data_df[y_feature]"
   ]
  },
  {
   "cell_type": "code",
   "execution_count": 4,
   "metadata": {},
   "outputs": [
    {
     "name": "stdout",
     "output_type": "stream",
     "text": [
      "Accuracy: 0.817 (0.033)\n"
     ]
    }
   ],
   "source": [
    "# Define model\n",
    "model = XGBClassifier()\n",
    "\n",
    "# Fit model\n",
    "rskf = RepeatedStratifiedKFold(n_splits=10, n_repeats=3, random_state=1234)\n",
    "n_scores = cross_val_score(model, X, y, scoring='accuracy', cv=rskf, n_jobs=-1)\n",
    "print('Accuracy: %.3f (%.3f)' % (np.mean(n_scores), np.std(n_scores)))"
   ]
  },
  {
   "cell_type": "code",
   "execution_count": 5,
   "metadata": {},
   "outputs": [
    {
     "name": "stdout",
     "output_type": "stream",
     "text": [
      "Finished model: max_depth = 1, n_estimators = 10\n",
      "Finished model: max_depth = 1, n_estimators = 50\n",
      "Finished model: max_depth = 1, n_estimators = 100\n",
      "Finished model: max_depth = 1, n_estimators = 500\n",
      "Finished model: max_depth = 1, n_estimators = 1000\n",
      "Finished model: max_depth = 1, n_estimators = 5000\n",
      "Finished model: max_depth = 2, n_estimators = 10\n",
      "Finished model: max_depth = 2, n_estimators = 50\n",
      "Finished model: max_depth = 2, n_estimators = 100\n",
      "Finished model: max_depth = 2, n_estimators = 500\n",
      "Finished model: max_depth = 2, n_estimators = 1000\n"
     ]
    }
   ],
   "source": [
    "# Basic hyperparameter tuning\n",
    "models = []\n",
    "n_scores = []\n",
    "\n",
    "max_depth_values = range(1,10)\n",
    "n_estimators = [10, 50, 100, 500, 1000, 5000]\n",
    "\n",
    "for depth in max_depth_values:\n",
    "    for n in n_estimators:\n",
    "        xgb_model = XGBClassifier(max_depth=depth, n_estimators=n)\n",
    "        models.append(xgb_model)\n",
    "\n",
    "for model in models:\n",
    "    mean_score = np.mean(cross_val_score(model, X, y, scoring='accuracy', cv=rskf, n_jobs=-1))\n",
    "    n_scores.append({\n",
    "        \"mean_score\": mean_score,\n",
    "        \"max_depth\": model.max_depth,\n",
    "        \"n_estimators\": model.n_estimators\n",
    "        })\n",
    "    print(f\"Finished model: max_depth = {model.max_depth}, n_estimators = {model.n_estimators}\")\n",
    "\n",
    "results_df = pd.DataFrame(n_scores, columns=n_scores[0].keys())   \n",
    "results_df"
   ]
  },
  {
   "cell_type": "code",
   "execution_count": null,
   "metadata": {},
   "outputs": [],
   "source": [
    "import matplotlib.pyplot as plt\n",
    "\n",
    "xs = np.array(results_df[\"max_depth\"])\n",
    "ys = np.array(results_df[\"n_estimators\"])\n",
    "zs = np.array(results_df[\"mean_score\"])\n",
    "\n",
    "shape = (len(np.unique(xs)), len(np.unique(ys)))\n",
    "\n",
    "x_cont, y_cont = np.meshgrid(np.unique(ys), np.unique(xs))\n",
    "z_cont = np.reshape(zs, shape)\n",
    "\n",
    "fig = plt.figure()\n",
    "ax = fig.add_subplot(111)\n",
    "plt.contourf(x_cont, y_cont, z_cont)\n",
    "ax.set_xlabel(\"n_estimators\")\n",
    "ax.set_ylabel(\"max_depth\")\n",
    "ax.xaxis.label.set_color('white')\n",
    "ax.yaxis.label.set_color('white')\n",
    "ax.tick_params(axis='both', colors='white')\n",
    "\n",
    "color_bar = plt.colorbar()\n",
    "cbytick_obj = plt.getp(color_bar.ax.axes, 'yticklabels')                \n",
    "plt.setp(cbytick_obj, color='w')\n",
    "\n",
    "plt.show()"
   ]
  },
  {
   "cell_type": "code",
   "execution_count": null,
   "metadata": {},
   "outputs": [],
   "source": [
    "# Basic hyperparameter tuning\n",
    "models = []\n",
    "n_scores = []\n",
    "\n",
    "max_depth_values = [3]\n",
    "n_estimators = [50, 75, 100, 125, 150]\n",
    "learning_rates = [0.4, 0.3, 0.2, 0.1]\n",
    "\n",
    "for depth in max_depth_values:\n",
    "    for n in n_estimators:\n",
    "        for learning_rate in learning_rates:\n",
    "            xgb_model = XGBClassifier(max_depth=depth, n_estimators=n, learning_rate=learning_rate)\n",
    "            models.append(xgb_model)\n",
    "\n",
    "for model in models:\n",
    "    mean_score = np.mean(cross_val_score(model, X, y, scoring='accuracy', cv=rskf, n_jobs=-1))\n",
    "    n_scores.append({\n",
    "        \"mean_score\": mean_score,\n",
    "        \"max_depth\": model.max_depth,\n",
    "        \"n_estimators\": model.n_estimators,\n",
    "        \"learning_rate\": model.learning_rate\n",
    "        })\n",
    "    print(f\"Finished model: learning_rate = {model.learning_rate:.4f}, n_estimators = {model.n_estimators} --> mean_score = {mean_score:.3f}\")\n",
    "\n",
    "results_df = pd.DataFrame(n_scores, columns=n_scores[0].keys())"
   ]
  },
  {
   "cell_type": "code",
   "execution_count": null,
   "metadata": {},
   "outputs": [],
   "source": [
    "import matplotlib.pyplot as plt\n",
    "\n",
    "z_cont = results_df.pivot_table(index='learning_rate', columns='n_estimators', values='mean_score').T.values\n",
    "\n",
    "X_unique = np.sort(results_df.learning_rate.unique())\n",
    "Y_unique = np.sort(results_df.n_estimators.unique())\n",
    "x_cont, y_cont = np.meshgrid(X_unique, Y_unique)\n",
    "\n",
    "fig = plt.figure()\n",
    "ax = fig.add_subplot(111)\n",
    "plt.contourf(x_cont, y_cont, z_cont)\n",
    "ax.set_xlabel(\"learning_rate\")\n",
    "ax.set_ylabel(\"n_estimators\")\n",
    "ax.xaxis.label.set_color('white')\n",
    "ax.yaxis.label.set_color('white')\n",
    "ax.tick_params(axis='both', colors='white')\n",
    "\n",
    "color_bar = plt.colorbar()\n",
    "cbytick_obj = plt.getp(color_bar.ax.axes, 'yticklabels')                \n",
    "plt.setp(cbytick_obj, color='w')\n",
    "\n",
    "plt.show()"
   ]
  },
  {
   "cell_type": "code",
   "execution_count": null,
   "metadata": {},
   "outputs": [],
   "source": [
    "results_df.sort_values(by=\"mean_score\", ascending=False)"
   ]
  },
  {
   "cell_type": "code",
   "execution_count": null,
   "metadata": {},
   "outputs": [],
   "source": [
    "final_model = XGBClassifier(max_depth=3, n_estimators=75, learning_rate=0.3)\n",
    "final_model.fit(X, y)"
   ]
  },
  {
   "cell_type": "code",
   "execution_count": null,
   "metadata": {},
   "outputs": [],
   "source": [
    "test_data_df = prep_data_2.main(train_csv_path=final_test_csv_path)\n",
    "X_test = test_data_df[X_features]\n",
    "\n",
    "y_pred = final_model.predict(X_test)\n",
    "\n",
    "y_pred_df = pd.DataFrame()\n",
    "y_pred_df[\"PassengerId\"] = test_data_df[\"PassengerId\"]\n",
    "y_pred_df[\"Survived\"] = y_pred\n",
    "\n",
    "y_pred_df.to_csv(\"Datasets/submission 8.csv\", index=False)"
   ]
  },
  {
   "cell_type": "code",
   "execution_count": null,
   "metadata": {},
   "outputs": [
    {
     "name": "stdout",
     "output_type": "stream",
     "text": [
      "<class 'pandas.core.frame.DataFrame'>\n",
      "RangeIndex: 891 entries, 0 to 890\n",
      "Data columns (total 22 columns):\n",
      " #   Column                Non-Null Count  Dtype  \n",
      "---  ------                --------------  -----  \n",
      " 0   PassengerId           891 non-null    int64  \n",
      " 1   Survived              891 non-null    int64  \n",
      " 2   Pclass                891 non-null    int64  \n",
      " 3   Age                   891 non-null    float64\n",
      " 4   SibSp                 891 non-null    int64  \n",
      " 5   Parch                 891 non-null    int64  \n",
      " 6   Fare                  891 non-null    float64\n",
      " 7   female                891 non-null    int32  \n",
      " 8   male                  891 non-null    int32  \n",
      " 9   child                 891 non-null    int32  \n",
      " 10  15 - 30               891 non-null    int32  \n",
      " 11  30 - 50               891 non-null    int32  \n",
      " 12  50+                   891 non-null    int32  \n",
      " 13  C                     891 non-null    int32  \n",
      " 14  Q                     891 non-null    int32  \n",
      " 15  S                     891 non-null    int32  \n",
      " 16  young man             891 non-null    int32  \n",
      " 17  young woman           891 non-null    int32  \n",
      " 18  old man               891 non-null    int32  \n",
      " 19  old woman             891 non-null    int32  \n",
      " 20  no friends or family  891 non-null    int32  \n",
      " 21  10^class              891 non-null    int64  \n",
      "dtypes: float64(2), int32(14), int64(6)\n",
      "memory usage: 104.5 KB\n"
     ]
    }
   ],
   "source": [
    "# Trying again with all columns of dataframe\n",
    "data_df.info()"
   ]
  },
  {
   "cell_type": "code",
   "execution_count": null,
   "metadata": {},
   "outputs": [],
   "source": []
  }
 ],
 "metadata": {
  "interpreter": {
   "hash": "7f8db6a2d2432c89d112ec366f4d2e2376b3aa097399500d8f207a777f12d464"
  },
  "kernelspec": {
   "display_name": "Python 3.9.7 ('pytorch')",
   "language": "python",
   "name": "python3"
  },
  "language_info": {
   "codemirror_mode": {
    "name": "ipython",
    "version": 3
   },
   "file_extension": ".py",
   "mimetype": "text/x-python",
   "name": "python",
   "nbconvert_exporter": "python",
   "pygments_lexer": "ipython3",
   "version": "3.9.7"
  },
  "orig_nbformat": 4
 },
 "nbformat": 4,
 "nbformat_minor": 2
}
