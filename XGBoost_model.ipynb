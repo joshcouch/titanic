{
 "cells": [
  {
   "cell_type": "markdown",
   "metadata": {},
   "source": [
    "# New model using SKLearn random forest regressor\n"
   ]
  },
  {
   "cell_type": "code",
   "execution_count": 1,
   "metadata": {},
   "outputs": [
    {
     "name": "stderr",
     "output_type": "stream",
     "text": [
      "c:\\Users\\joshc\\anaconda3\\envs\\pytorch\\lib\\site-packages\\xgboost\\compat.py:36: FutureWarning: pandas.Int64Index is deprecated and will be removed from pandas in a future version. Use pandas.Index with the appropriate dtype instead.\n",
      "  from pandas import MultiIndex, Int64Index\n"
     ]
    }
   ],
   "source": [
    "import numpy as np\n",
    "import prep_data_2\n",
    "from sklearn.model_selection import RepeatedStratifiedKFold, cross_val_score\n",
    "from xgboost import XGBClassifier\n",
    "import pandas as pd"
   ]
  },
  {
   "cell_type": "code",
   "execution_count": 2,
   "metadata": {},
   "outputs": [],
   "source": [
    "# Define Paths\n",
    "train_csv_path = \"C:/Users/joshc/OneDrive/Documents/01 Trying too hard/Machine Learning and AI/Kaggle/titanic/Datasets/train.csv\"\n",
    "summary_stats_path = \"C:/Users/joshc/OneDrive/Documents/01 Trying too hard/Machine Learning and AI/Kaggle/titanic/Datasets/summary stats.txt\"\n",
    "final_test_csv_path = \"C:/Users/joshc/OneDrive/Documents/01 Trying too hard/Machine Learning and AI/Kaggle/titanic/Datasets/test.csv\"\n",
    "\n",
    "data_df = prep_data_2.main(train_csv_path=train_csv_path)\n",
    "\n",
    "y_feature = \"Survived\"\n",
    "X_features = ['Age', 'Fare', 'female', 'no friends or family', '10^class']\n",
    "\n",
    "X = data_df[X_features]\n",
    "y = data_df[y_feature]"
   ]
  },
  {
   "cell_type": "code",
   "execution_count": 3,
   "metadata": {},
   "outputs": [
    {
     "name": "stdout",
     "output_type": "stream",
     "text": [
      "Accuracy: 0.817 (0.033)\n"
     ]
    }
   ],
   "source": [
    "# Define model\n",
    "model = XGBClassifier()\n",
    "\n",
    "# Fit model\n",
    "rskf = RepeatedStratifiedKFold(n_splits=10, n_repeats=3, random_state=1234)\n",
    "n_scores = cross_val_score(model, X, y, scoring='accuracy', cv=rskf, n_jobs=-1)\n",
    "print('Accuracy: %.3f (%.3f)' % (np.mean(n_scores), np.std(n_scores)))"
   ]
  },
  {
   "cell_type": "code",
   "execution_count": null,
   "metadata": {},
   "outputs": [],
   "source": [
    "# Basic hyperparameter tuning\n",
    "models = []\n",
    "n_scores = []\n",
    "\n",
    "max_depth_values = range(1,10)\n",
    "n_estimators = [10, 50, 100, 500, 1000, 5000]\n",
    "\n",
    "for depth in max_depth_values:\n",
    "    for n in n_estimators:\n",
    "        xgb_model = XGBClassifier(max_depth=depth, n_estimators=n)\n",
    "        models.append(xgb_model)\n",
    "\n",
    "for model in models:\n",
    "    mean_score = np.mean(cross_val_score(model, X, y, scoring='accuracy', cv=rskf, n_jobs=-1))\n",
    "    n_scores.append({\n",
    "        \"mean_score\": mean_score,\n",
    "        \"max_depth\": model.max_depth,\n",
    "        \"n_estimators\": model.n_estimators\n",
    "        })\n",
    "    print(f\"Finished model: max_depth = {model.max_depth}, n_estimators = {model.n_estimators}\")\n",
    "\n",
    "results_df = pd.DataFrame(n_scores, columns=n_scores[0].keys())   \n",
    "results_df"
   ]
  },
  {
   "cell_type": "code",
   "execution_count": 7,
   "metadata": {},
   "outputs": [
    {
     "data": {
      "image/png": "[encoded data removed]",
      "text/plain": [
       "<Figure size 432x288 with 2 Axes>"
      ]
     },
     "metadata": {
      "needs_background": "dark"
     },
     "output_type": "display_data"
    }
   ],
   "source": [
    "import matplotlib.pyplot as plt\n",
    "\n",
    "xs = np.array(results_df[\"max_depth\"])\n",
    "ys = np.array(results_df[\"n_estimators\"])\n",
    "zs = np.array(results_df[\"mean_score\"])\n",
    "\n",
    "shape = (len(np.unique(xs)), len(np.unique(ys)))\n",
    "\n",
    "x_cont, y_cont = np.meshgrid(np.unique(ys), np.unique(xs))\n",
    "z_cont = np.reshape(zs, shape)\n",
    "\n",
    "fig = plt.figure()\n",
    "ax = fig.add_subplot(111)\n",
    "plt.contourf(x_cont, y_cont, z_cont)\n",
    "ax.set_xlabel(\"n_estimators\")\n",
    "ax.set_ylabel(\"max_depth\")\n",
    "ax.xaxis.label.set_color('white')\n",
    "ax.yaxis.label.set_color('white')\n",
    "ax.tick_params(axis='both', colors='white')\n",
    "\n",
    "color_bar = plt.colorbar()\n",
    "cbytick_obj = plt.getp(color_bar.ax.axes, 'yticklabels')                \n",
    "plt.setp(cbytick_obj, color='w')\n",
    "\n",
    "plt.show()"
   ]
  },
  {
   "cell_type": "code",
   "execution_count": null,
   "metadata": {},
   "outputs": [],
   "source": []
  }
 ],
 "metadata": {
  "interpreter": {
   "hash": "7f8db6a2d2432c89d112ec366f4d2e2376b3aa097399500d8f207a777f12d464"
  },
  "kernelspec": {
   "display_name": "Python 3.9.7 ('pytorch')",
   "language": "python",
   "name": "python3"
  },
  "language_info": {
   "codemirror_mode": {
    "name": "ipython",
    "version": 3
   },
   "file_extension": ".py",
   "mimetype": "text/x-python",
   "name": "python",
   "nbconvert_exporter": "python",
   "pygments_lexer": "ipython3",
   "version": "3.9.7"
  },
  "orig_nbformat": 4
 },
 "nbformat": 4,
 "nbformat_minor": 2
}
